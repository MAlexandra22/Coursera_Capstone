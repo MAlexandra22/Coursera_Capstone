{
 "cells": [
  {
   "cell_type": "markdown",
   "id": "ff3556ba-9027-41d8-bddc-95318e97bcc0",
   "metadata": {},
   "source": [
    "# Opening a Japanese Restaurant in Toronto"
   ]
  },
  {
   "cell_type": "markdown",
   "id": "e3b94f58-8986-44ac-83df-8dfef999616f",
   "metadata": {},
   "source": [
    "## Introduction/ Business Problem\n",
    "\n",
    "Toronto is the capital city of the province of Ontario, one of the largest cities in Canada by population with 2,731,571 residents as of 2016. The majority of the Ontario residents live the the Greater Toronto Area (GTA) which makes it Canada's most populous city. With the wide diversity in Canada and in the City of Toronto, there are many restaurants that offer almost every cuisine that exists on the planet. However, considering the increasing popularity of the oriental food, it is always a best idea to open an authentic Japanese restaurant.\n",
    "\n",
    "Opening a new restaurant in the city would require a good understanding of the geography, neighborhoods and diversity of the city and the distribution of the restaurants on each side of the city that ranges from east to west and the center.\n",
    "\n",
    "Our study would require filtering all the venues to only work on venues that serve food, fast food or are just diner places or restaurants. Also the information will be filtered in order to see how many Japanese restaurants are in each area. Our study should decide which area would be best to open an Japanese restaurant.\n",
    "\n",
    "## Data\n",
    "\n",
    "For the Toronto neighborhood data, I will use the following Wikipedia page: https://en.wikipedia.org/wiki/List_of_postal_codes_of_Canada:_M. Thid has all the details I need to explore and cluster the neighborhoods in Toronto. I will scrape the Wikipedia page by using BeautifulSoup and wrangle the data, clean it, and then read it into a pandas dataframe. In this way it will be in a structured format. \n",
    "\n",
    "The geographical coordinates of each postal code will be read in a pandas dataframe as well from:'https://cf-courses-data.s3.us.cloud-object-storage.appdomain.cloud/IBMDeveloperSkillsNetwork-DS0701EN-SkillsNetwork/labs_v1/Geospatial_Coordinates.csv'. Then both dataframes will be merged together so that each neighborhood has its geographical coordinates assigned.\n",
    "\n",
    "I will use Foursquare APIs to fetch the data from all the venues in Toronto. Then I will filter the data to get only the restaurants/diners or food related venues to work on."
   ]
  }
 ],
 "metadata": {
  "kernelspec": {
   "display_name": "Python",
   "language": "python",
   "name": "conda-env-python-py"
  },
  "language_info": {
   "codemirror_mode": {
    "name": "ipython",
    "version": 3
   },
   "file_extension": ".py",
   "mimetype": "text/x-python",
   "name": "python",
   "nbconvert_exporter": "python",
   "pygments_lexer": "ipython3",
   "version": "3.6.13"
  }
 },
 "nbformat": 4,
 "nbformat_minor": 5
}
